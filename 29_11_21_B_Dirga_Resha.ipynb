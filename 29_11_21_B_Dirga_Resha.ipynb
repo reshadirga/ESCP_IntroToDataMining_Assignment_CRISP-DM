{
 "cells": [
  {
   "cell_type": "markdown",
   "id": "7d117190",
   "metadata": {},
   "source": [
    "<img src = \"https://escp.eu/sites/default/files/logo/ESCP-logo-white-misalign.svg\" width = 400 style=\"background-color: #240085;\">\n",
    "<h1 align=center><font size = 5>ESCP Business School</font></h1>\n",
    "<h1 align=center><font size = 3>Introduction to Data Mining</font></h1>\n",
    "<h1 align=center><font size = 3>Developing a Real/Fake Job Posting Predictor for a job-seeking platform (Company A)</font></h1>"
   ]
  },
  {
   "cell_type": "markdown",
   "id": "3af8067b",
   "metadata": {},
   "source": [
    "Last Updated: November 29, 2021\\\n",
    "Author: Resha Dirga"
   ]
  },
  {
   "cell_type": "markdown",
   "id": "1b934c19",
   "metadata": {},
   "source": [
    "<h3>Business Objectives</h3>\n",
    "\n",
    "<p>Company A earns most of its revenue from premium job posting which was paid by the advertised companies. These premium job postings only consist of 8% of total job posting that being submitted to Company A. The non-premium job posts, while not generating revenue for Company A, plays a great role to pull in traffic to the platform.</p>\n",
    "\n",
    "<p>Company A found that 18% of the non-premium job posts that were posted on the platform are fakes, which hurts the credibility of Company A. Currently, there is no dedicated team to check the validity of the job postings coming in since the current procedure is to perform the validation on the posted jobs and the validation process took a lot of time to perform.</p>\n",
    "\n",
    "<p>Thus, this study is commissioned with the following objectives:</p>\n",
    "<ul>\n",
    "    <li>Improve the quality of job posts from fake posts</li>\n",
    "    <li>Reduce the time of validation that required to validate the legitimacy of the job post</li>\n",
    "</ul>\n",
    "<p>The success criteria for this study are:</p>\n",
    "<ul>\n",
    "    <li>Reduces the number of fake job posts by 50%</li>\n",
    "    <li>Evaluate all non-premium job posts</li>\n",
    "    <li>Generates a usable tool/method to evaluate job posts legitimacy</li>\n",
    "</ul>"
   ]
  },
  {
   "cell_type": "markdown",
   "id": "29eaa536",
   "metadata": {},
   "source": [
    "<h3>Data Mining Goals</h3>\n",
    "\n",
    "<p>Company A conducted a survey with a local university and identified the validity of over 15k job posts. By utilizing the survey, the goals of this study are:</p>\n",
    "<ul>\n",
    "    <li>Use the survey result to identify relevant features of job posts to look for to identify its legitimacy</li>\n",
    "    <li>Use the survey data to build a model that can evaluate legitimacy of incoming job posts with an accuracy above 80%</li>\n",
    "    <li>Build a model that can be integrated into the job posting pipeline that can filter 100% of the posts before posting on the platform</li>\n",
    "</ul>"
   ]
  },
  {
   "cell_type": "markdown",
   "id": "0a4fd057",
   "metadata": {},
   "source": [
    "<h3>Data Understanding</h3>\n",
    "\n",
    "<p>There are 17,880 job posts that have been collected and analyzed by the survey performed by Company A and the local university from various job-posting platforms. There are 16 features listed in the survey associated with each post. Please go to this <a href=\"https://www.kaggle.com/shivamb/real-or-fake-fake-jobposting-prediction\" target=\"_blank\">link</a> to see the data summary:</p>\n",
    "\n",
    "<p>Since the data was collected from various sources, there might be inconsistencies on the features with categorical value type. These features need to be processed, as such, to identify similarities or to give similar impact for the category with similar meaning.</p>\n",
    "\n",
    "<b><i>Data Quality</i></b>\n",
    "<p><u>Missing data.</u> During the survey, Company A noticed that there are platforms that does not put some description as mandatory field. Thus, there are many null values on features that describes the job being offered, e.g.: department, salary_range, and benefits.</p>\n",
    "\n",
    "<p><u>Coding inconsistencies.</u> There are typing inconsistencies in the categorical features for the same feature meaning. A preprocessing step is required to put these data into the right context with uniform code rules.</p>\n"
   ]
  },
  {
   "cell_type": "markdown",
   "id": "5a9b0ada",
   "metadata": {},
   "source": [
    "<h3>Chapter 0: Import modules</h3>\n",
    "<p>This chapter lists all modules that being used on this document. The module import process will be performed on this chapter</p>"
   ]
  },
  {
   "cell_type": "code",
   "execution_count": 1,
   "id": "c20f25c8",
   "metadata": {},
   "outputs": [],
   "source": [
    "import numpy as np\n",
    "import pandas as pd\n",
    "\n",
    "import matplotlib.pyplot as plt\n",
    "# import seaborn as sns\n",
    "from sklearn import preprocessing\n",
    "from sklearn import tree\n",
    "from sklearn.compose import ColumnTransformer\n",
    "from sklearn.model_selection import GridSearchCV, train_test_split\n",
    "\n",
    "import sklearn.linear_model as linear_model\n",
    "from sklearn.neighbors import KNeighborsClassifier\n",
    "# from sklearn import svm\n",
    "from sklearn.tree import DecisionTreeClassifier\n",
    "from sklearn.ensemble import RandomForestClassifier\n",
    "from sklearn.naive_bayes import GaussianNB\n",
    "from sklearn.metrics import plot_confusion_matrix\n",
    "\n",
    "import pickle"
   ]
  },
  {
   "cell_type": "markdown",
   "id": "35ccce83",
   "metadata": {},
   "source": [
    "<h3>Chapter 1: Data Loading and Exploratory Data Analysis</h3>\n",
    "<p>This chapter reads the data and provides an overview of the data, such as: the name of columns, number of values, data types within each columns. The first 5 data is also shown to get better understanding of the data.</p>"
   ]
  },
  {
   "cell_type": "code",
   "execution_count": 2,
   "id": "18de3f05",
   "metadata": {},
   "outputs": [
    {
     "name": "stdout",
     "output_type": "stream",
     "text": [
      "Jobpost Datasets\n",
      "<class 'pandas.core.frame.DataFrame'>\n",
      "RangeIndex: 17880 entries, 0 to 17879\n",
      "Data columns (total 18 columns):\n",
      " #   Column               Non-Null Count  Dtype \n",
      "---  ------               --------------  ----- \n",
      " 0   job_id               17880 non-null  int64 \n",
      " 1   title                17880 non-null  object\n",
      " 2   location             17534 non-null  object\n",
      " 3   department           6333 non-null   object\n",
      " 4   salary_range         2868 non-null   object\n",
      " 5   company_profile      14572 non-null  object\n",
      " 6   description          17879 non-null  object\n",
      " 7   requirements         15185 non-null  object\n",
      " 8   benefits             10670 non-null  object\n",
      " 9   telecommuting        17880 non-null  int64 \n",
      " 10  has_company_logo     17880 non-null  int64 \n",
      " 11  has_questions        17880 non-null  int64 \n",
      " 12  employment_type      14409 non-null  object\n",
      " 13  required_experience  10830 non-null  object\n",
      " 14  required_education   9775 non-null   object\n",
      " 15  industry             12977 non-null  object\n",
      " 16  function             11425 non-null  object\n",
      " 17  fraudulent           17880 non-null  int64 \n",
      "dtypes: int64(5), object(13)\n",
      "memory usage: 2.5+ MB\n"
     ]
    }
   ],
   "source": [
    "# read databases\n",
    "df_jobposts = pd.read_csv('datasets/fake_job_postings.csv')\n",
    "\n",
    "print('Jobpost Datasets')\n",
    "df_jobposts.info()"
   ]
  },
  {
   "cell_type": "code",
   "execution_count": 3,
   "id": "b01e87fb",
   "metadata": {},
   "outputs": [
    {
     "data": {
      "text/html": [
       "<div>\n",
       "<style scoped>\n",
       "    .dataframe tbody tr th:only-of-type {\n",
       "        vertical-align: middle;\n",
       "    }\n",
       "\n",
       "    .dataframe tbody tr th {\n",
       "        vertical-align: top;\n",
       "    }\n",
       "\n",
       "    .dataframe thead th {\n",
       "        text-align: right;\n",
       "    }\n",
       "</style>\n",
       "<table border=\"1\" class=\"dataframe\">\n",
       "  <thead>\n",
       "    <tr style=\"text-align: right;\">\n",
       "      <th></th>\n",
       "      <th>job_id</th>\n",
       "      <th>title</th>\n",
       "      <th>location</th>\n",
       "      <th>department</th>\n",
       "      <th>salary_range</th>\n",
       "      <th>company_profile</th>\n",
       "      <th>description</th>\n",
       "      <th>requirements</th>\n",
       "      <th>benefits</th>\n",
       "      <th>telecommuting</th>\n",
       "      <th>has_company_logo</th>\n",
       "      <th>has_questions</th>\n",
       "      <th>employment_type</th>\n",
       "      <th>required_experience</th>\n",
       "      <th>required_education</th>\n",
       "      <th>industry</th>\n",
       "      <th>function</th>\n",
       "      <th>fraudulent</th>\n",
       "    </tr>\n",
       "  </thead>\n",
       "  <tbody>\n",
       "    <tr>\n",
       "      <th>0</th>\n",
       "      <td>1</td>\n",
       "      <td>Marketing Intern</td>\n",
       "      <td>US, NY, New York</td>\n",
       "      <td>Marketing</td>\n",
       "      <td>NaN</td>\n",
       "      <td>We're Food52, and we've created a groundbreaki...</td>\n",
       "      <td>Food52, a fast-growing, James Beard Award-winn...</td>\n",
       "      <td>Experience with content management systems a m...</td>\n",
       "      <td>NaN</td>\n",
       "      <td>0</td>\n",
       "      <td>1</td>\n",
       "      <td>0</td>\n",
       "      <td>Other</td>\n",
       "      <td>Internship</td>\n",
       "      <td>NaN</td>\n",
       "      <td>NaN</td>\n",
       "      <td>Marketing</td>\n",
       "      <td>0</td>\n",
       "    </tr>\n",
       "    <tr>\n",
       "      <th>1</th>\n",
       "      <td>2</td>\n",
       "      <td>Customer Service - Cloud Video Production</td>\n",
       "      <td>NZ, , Auckland</td>\n",
       "      <td>Success</td>\n",
       "      <td>NaN</td>\n",
       "      <td>90 Seconds, the worlds Cloud Video Production ...</td>\n",
       "      <td>Organised - Focused - Vibrant - Awesome!Do you...</td>\n",
       "      <td>What we expect from you:Your key responsibilit...</td>\n",
       "      <td>What you will get from usThrough being part of...</td>\n",
       "      <td>0</td>\n",
       "      <td>1</td>\n",
       "      <td>0</td>\n",
       "      <td>Full-time</td>\n",
       "      <td>Not Applicable</td>\n",
       "      <td>NaN</td>\n",
       "      <td>Marketing and Advertising</td>\n",
       "      <td>Customer Service</td>\n",
       "      <td>0</td>\n",
       "    </tr>\n",
       "    <tr>\n",
       "      <th>2</th>\n",
       "      <td>3</td>\n",
       "      <td>Commissioning Machinery Assistant (CMA)</td>\n",
       "      <td>US, IA, Wever</td>\n",
       "      <td>NaN</td>\n",
       "      <td>NaN</td>\n",
       "      <td>Valor Services provides Workforce Solutions th...</td>\n",
       "      <td>Our client, located in Houston, is actively se...</td>\n",
       "      <td>Implement pre-commissioning and commissioning ...</td>\n",
       "      <td>NaN</td>\n",
       "      <td>0</td>\n",
       "      <td>1</td>\n",
       "      <td>0</td>\n",
       "      <td>NaN</td>\n",
       "      <td>NaN</td>\n",
       "      <td>NaN</td>\n",
       "      <td>NaN</td>\n",
       "      <td>NaN</td>\n",
       "      <td>0</td>\n",
       "    </tr>\n",
       "    <tr>\n",
       "      <th>3</th>\n",
       "      <td>4</td>\n",
       "      <td>Account Executive - Washington DC</td>\n",
       "      <td>US, DC, Washington</td>\n",
       "      <td>Sales</td>\n",
       "      <td>NaN</td>\n",
       "      <td>Our passion for improving quality of life thro...</td>\n",
       "      <td>THE COMPANY: ESRI – Environmental Systems Rese...</td>\n",
       "      <td>EDUCATION: Bachelor’s or Master’s in GIS, busi...</td>\n",
       "      <td>Our culture is anything but corporate—we have ...</td>\n",
       "      <td>0</td>\n",
       "      <td>1</td>\n",
       "      <td>0</td>\n",
       "      <td>Full-time</td>\n",
       "      <td>Mid-Senior level</td>\n",
       "      <td>Bachelor's Degree</td>\n",
       "      <td>Computer Software</td>\n",
       "      <td>Sales</td>\n",
       "      <td>0</td>\n",
       "    </tr>\n",
       "    <tr>\n",
       "      <th>4</th>\n",
       "      <td>5</td>\n",
       "      <td>Bill Review Manager</td>\n",
       "      <td>US, FL, Fort Worth</td>\n",
       "      <td>NaN</td>\n",
       "      <td>NaN</td>\n",
       "      <td>SpotSource Solutions LLC is a Global Human Cap...</td>\n",
       "      <td>JOB TITLE: Itemization Review ManagerLOCATION:...</td>\n",
       "      <td>QUALIFICATIONS:RN license in the State of Texa...</td>\n",
       "      <td>Full Benefits Offered</td>\n",
       "      <td>0</td>\n",
       "      <td>1</td>\n",
       "      <td>1</td>\n",
       "      <td>Full-time</td>\n",
       "      <td>Mid-Senior level</td>\n",
       "      <td>Bachelor's Degree</td>\n",
       "      <td>Hospital &amp; Health Care</td>\n",
       "      <td>Health Care Provider</td>\n",
       "      <td>0</td>\n",
       "    </tr>\n",
       "  </tbody>\n",
       "</table>\n",
       "</div>"
      ],
      "text/plain": [
       "   job_id                                      title            location  \\\n",
       "0       1                           Marketing Intern    US, NY, New York   \n",
       "1       2  Customer Service - Cloud Video Production      NZ, , Auckland   \n",
       "2       3    Commissioning Machinery Assistant (CMA)       US, IA, Wever   \n",
       "3       4          Account Executive - Washington DC  US, DC, Washington   \n",
       "4       5                        Bill Review Manager  US, FL, Fort Worth   \n",
       "\n",
       "  department salary_range                                    company_profile  \\\n",
       "0  Marketing          NaN  We're Food52, and we've created a groundbreaki...   \n",
       "1    Success          NaN  90 Seconds, the worlds Cloud Video Production ...   \n",
       "2        NaN          NaN  Valor Services provides Workforce Solutions th...   \n",
       "3      Sales          NaN  Our passion for improving quality of life thro...   \n",
       "4        NaN          NaN  SpotSource Solutions LLC is a Global Human Cap...   \n",
       "\n",
       "                                         description  \\\n",
       "0  Food52, a fast-growing, James Beard Award-winn...   \n",
       "1  Organised - Focused - Vibrant - Awesome!Do you...   \n",
       "2  Our client, located in Houston, is actively se...   \n",
       "3  THE COMPANY: ESRI – Environmental Systems Rese...   \n",
       "4  JOB TITLE: Itemization Review ManagerLOCATION:...   \n",
       "\n",
       "                                        requirements  \\\n",
       "0  Experience with content management systems a m...   \n",
       "1  What we expect from you:Your key responsibilit...   \n",
       "2  Implement pre-commissioning and commissioning ...   \n",
       "3  EDUCATION: Bachelor’s or Master’s in GIS, busi...   \n",
       "4  QUALIFICATIONS:RN license in the State of Texa...   \n",
       "\n",
       "                                            benefits  telecommuting  \\\n",
       "0                                                NaN              0   \n",
       "1  What you will get from usThrough being part of...              0   \n",
       "2                                                NaN              0   \n",
       "3  Our culture is anything but corporate—we have ...              0   \n",
       "4                              Full Benefits Offered              0   \n",
       "\n",
       "   has_company_logo  has_questions employment_type required_experience  \\\n",
       "0                 1              0           Other          Internship   \n",
       "1                 1              0       Full-time      Not Applicable   \n",
       "2                 1              0             NaN                 NaN   \n",
       "3                 1              0       Full-time    Mid-Senior level   \n",
       "4                 1              1       Full-time    Mid-Senior level   \n",
       "\n",
       "  required_education                   industry              function  \\\n",
       "0                NaN                        NaN             Marketing   \n",
       "1                NaN  Marketing and Advertising      Customer Service   \n",
       "2                NaN                        NaN                   NaN   \n",
       "3  Bachelor's Degree          Computer Software                 Sales   \n",
       "4  Bachelor's Degree     Hospital & Health Care  Health Care Provider   \n",
       "\n",
       "   fraudulent  \n",
       "0           0  \n",
       "1           0  \n",
       "2           0  \n",
       "3           0  \n",
       "4           0  "
      ]
     },
     "execution_count": 3,
     "metadata": {},
     "output_type": "execute_result"
    }
   ],
   "source": [
    "df_jobposts.head()"
   ]
  },
  {
   "cell_type": "markdown",
   "id": "0fbe5ecf",
   "metadata": {},
   "source": [
    "<h3>Chapter 2: Data Preparation</h3>\n",
    "<p>This chapter preprocesses the data to get dataset that is ready for analysis. The preprocessing include:\n",
    "<ul>\n",
    "    <li>Drop unused columns or those that cannot be used on the statistics (e.g., columns that will not be used to build the model)</li>\n",
    "    <li>Convert data to 'ready-to-process' types, for example converting long descriptive texts to word count integer</li>\n",
    "</ul>\n",
    "</p>"
   ]
  },
  {
   "cell_type": "code",
   "execution_count": 4,
   "id": "3fc1e921",
   "metadata": {},
   "outputs": [],
   "source": [
    "# columns categorisation\n",
    "col_short_descriptive_drop = ['job_id','title']\n",
    "col_short_descriptive = ['location', 'department', 'salary_range']\n",
    "col_long_descriptive = ['company_profile', 'description','requirements','benefits']\n",
    "col_bool = ['telecommuting', 'has_company_logo', 'has_questions']\n",
    "col_categorical = ['employment_type', 'required_experience', 'required_education', 'industry', 'function']"
   ]
  },
  {
   "cell_type": "code",
   "execution_count": 5,
   "id": "09d5d037",
   "metadata": {},
   "outputs": [],
   "source": [
    "# data preprocessing for short descriptives\n",
    "\n",
    "le = preprocessing.LabelEncoder()\n",
    "\n",
    "encoded_columns = ['en_location', 'en_department', 'en_salary_range']\n",
    "\n",
    "for column in col_short_descriptive:\n",
    "    encoded_short_descriptive = le.fit_transform(df_jobposts[column])\n",
    "    index = col_short_descriptive.index(column)\n",
    "    df_jobposts[encoded_columns[index]] = encoded_short_descriptive"
   ]
  },
  {
   "cell_type": "code",
   "execution_count": 6,
   "id": "75e79aa6",
   "metadata": {
    "scrolled": true
   },
   "outputs": [],
   "source": [
    "# data preprocessing for long descriptives\n",
    "\n",
    "word_count_columns = ['wc_company_profile', 'wc_description','wc_requirements','wc_benefits']\n",
    "\n",
    "for feature in col_long_descriptive:\n",
    "    word_count = df_jobposts[feature].str.split().str.len()\n",
    "    index = col_long_descriptive.index(feature)\n",
    "    df_jobposts[word_count_columns[index]] = word_count\n",
    "    \n",
    "df_jobposts[word_count_columns] = df_jobposts[word_count_columns].fillna(0)"
   ]
  },
  {
   "cell_type": "code",
   "execution_count": 7,
   "id": "aade988c",
   "metadata": {},
   "outputs": [
    {
     "name": "stdout",
     "output_type": "stream",
     "text": [
      "employment_type\n",
      "['Other' 'Full-time' nan 'Part-time' 'Contract' 'Temporary']\n",
      "required_experience\n",
      "['Internship' 'Not Applicable' nan 'Mid-Senior level' 'Associate'\n",
      " 'Entry level' 'Executive' 'Director']\n",
      "required_education\n",
      "[nan \"Bachelor's Degree\" \"Master's Degree\" 'High School or equivalent'\n",
      " 'Unspecified' 'Some College Coursework Completed' 'Vocational'\n",
      " 'Certification' 'Associate Degree' 'Professional' 'Doctorate'\n",
      " 'Some High School Coursework' 'Vocational - Degree'\n",
      " 'Vocational - HS Diploma']\n",
      "industry\n",
      "[nan 'Marketing and Advertising' 'Computer Software'\n",
      " 'Hospital & Health Care' 'Online Media'\n",
      " 'Information Technology and Services' 'Financial Services'\n",
      " 'Management Consulting' 'Events Services' 'Internet'\n",
      " 'Facilities Services' 'Consumer Electronics' 'Telecommunications'\n",
      " 'Consumer Services' 'Construction' 'Oil & Energy' 'Education Management'\n",
      " 'Building Materials' 'Banking' 'Food & Beverages' 'Food Production'\n",
      " 'Health, Wellness and Fitness' 'Insurance' 'E-Learning' 'Cosmetics'\n",
      " 'Staffing and Recruiting' 'Venture Capital & Private Equity'\n",
      " 'Leisure, Travel & Tourism' 'Human Resources' 'Pharmaceuticals' 'Farming'\n",
      " 'Legal Services' 'Luxury Goods & Jewelry' 'Machinery' 'Real Estate'\n",
      " 'Mechanical or Industrial Engineering'\n",
      " 'Public Relations and Communications' 'Consumer Goods' 'Medical Practice'\n",
      " 'Electrical/Electronic Manufacturing' 'Hospitality' 'Music'\n",
      " 'Market Research' 'Automotive' 'Philanthropy' 'Utilities'\n",
      " 'Primary/Secondary Education' 'Logistics and Supply Chain' 'Design'\n",
      " 'Gambling & Casinos' 'Accounting' 'Environmental Services'\n",
      " 'Mental Health Care' 'Investment Management' 'Apparel & Fashion'\n",
      " 'Media Production' 'Publishing' 'Medical Devices' 'Information Services'\n",
      " 'Retail' 'Sports' 'Computer Games' 'Chemicals' 'Aviation & Aerospace'\n",
      " 'Business Supplies and Equipment' 'Program Development'\n",
      " 'Computer Networking' 'Biotechnology' 'Civic & Social Organization'\n",
      " 'Religious Institutions' 'Warehousing' 'Airlines/Aviation'\n",
      " 'Writing and Editing' 'Restaurants' 'Outsourcing/Offshoring'\n",
      " 'Transportation/Trucking/Railroad' 'Wireless' 'Investment Banking'\n",
      " 'Nonprofit Organization Management' 'Libraries' 'Computer Hardware'\n",
      " 'Broadcast Media' 'Printing' 'Graphic Design' 'Entertainment' 'Wholesale'\n",
      " 'Research' 'Animation' 'Government Administration' 'Capital Markets'\n",
      " 'Computer & Network Security' 'Semiconductors'\n",
      " 'Security and Investigations' 'Architecture & Planning' 'Maritime'\n",
      " 'Fund-Raising' 'Higher Education' 'Renewables & Environment'\n",
      " 'Motion Pictures and Film' 'Law Practice' 'Government Relations'\n",
      " 'Packaging and Containers' 'Sporting Goods' 'Mining & Metals'\n",
      " 'Import and Export' 'International Trade and Development'\n",
      " 'Professional Training & Coaching' 'Textiles' 'Commercial Real Estate'\n",
      " 'Law Enforcement' 'Package/Freight Delivery'\n",
      " 'Translation and Localization' 'Photography' 'Industrial Automation'\n",
      " 'Wine and Spirits' 'Public Safety' 'Civil Engineering' 'Military'\n",
      " 'Defense & Space' 'Veterinary' 'Executive Office' 'Performing Arts'\n",
      " 'Individual & Family Services' 'Public Policy' 'Nanotechnology'\n",
      " 'Museums and Institutions' 'Fishery' 'Plastics' 'Furniture'\n",
      " 'Shipbuilding' 'Alternative Dispute Resolution' 'Ranching']\n",
      "function\n",
      "['Marketing' 'Customer Service' nan 'Sales' 'Health Care Provider'\n",
      " 'Management' 'Information Technology' 'Other' 'Engineering'\n",
      " 'Administrative' 'Design' 'Production' 'Education' 'Supply Chain'\n",
      " 'Business Development' 'Product Management' 'Financial Analyst'\n",
      " 'Consulting' 'Human Resources' 'Project Management' 'Manufacturing'\n",
      " 'Public Relations' 'Strategy/Planning' 'Advertising' 'Finance'\n",
      " 'General Business' 'Research' 'Accounting/Auditing' 'Art/Creative'\n",
      " 'Quality Assurance' 'Data Analyst' 'Business Analyst' 'Writing/Editing'\n",
      " 'Distribution' 'Science' 'Training' 'Purchasing' 'Legal']\n"
     ]
    }
   ],
   "source": [
    "# data preprocessing for categorical\n",
    "\n",
    "for column in col_categorical:\n",
    "    print(column)\n",
    "    print(df_jobposts[column].unique())"
   ]
  },
  {
   "cell_type": "code",
   "execution_count": 8,
   "id": "73299f62",
   "metadata": {},
   "outputs": [],
   "source": [
    "# encode categorical columns\n",
    "encoded_columns = ['en_employment_type', 'en_required_experience', 'en_required_education', 'en_industry', 'en_function']\n",
    "\n",
    "for column in col_categorical:\n",
    "    encoded_category = le.fit_transform(df_jobposts[column])\n",
    "    index = col_categorical.index(column)\n",
    "    df_jobposts[encoded_columns[index]] = encoded_category"
   ]
  },
  {
   "cell_type": "code",
   "execution_count": 9,
   "id": "1ffe57a3",
   "metadata": {},
   "outputs": [
    {
     "name": "stdout",
     "output_type": "stream",
     "text": [
      "<class 'pandas.core.frame.DataFrame'>\n",
      "RangeIndex: 17880 entries, 0 to 17879\n",
      "Data columns (total 13 columns):\n",
      " #   Column                  Non-Null Count  Dtype  \n",
      "---  ------                  --------------  -----  \n",
      " 0   en_location             17880 non-null  int64  \n",
      " 1   en_department           17880 non-null  int64  \n",
      " 2   en_salary_range         17880 non-null  int64  \n",
      " 3   wc_company_profile      17880 non-null  float64\n",
      " 4   wc_description          17880 non-null  float64\n",
      " 5   wc_requirements         17880 non-null  float64\n",
      " 6   wc_benefits             17880 non-null  float64\n",
      " 7   en_employment_type      17880 non-null  int64  \n",
      " 8   en_required_experience  17880 non-null  int64  \n",
      " 9   en_required_education   17880 non-null  int64  \n",
      " 10  en_industry             17880 non-null  int64  \n",
      " 11  en_function             17880 non-null  int64  \n",
      " 12  fraudulent              17880 non-null  int64  \n",
      "dtypes: float64(4), int64(9)\n",
      "memory usage: 1.8 MB\n"
     ]
    }
   ],
   "source": [
    "# prepare new dataframe for modeling purpose\n",
    "col_for_model = ['en_location', 'en_department', 'en_salary_range', 'wc_company_profile', 'wc_description','wc_requirements','wc_benefits', 'en_employment_type', 'en_required_experience', 'en_required_education', 'en_industry', 'en_function', 'fraudulent']\n",
    "\n",
    "df_jobposts_clean = pd.DataFrame(df_jobposts[col_for_model], columns=col_for_model)\n",
    "df_jobposts_clean.info()"
   ]
  },
  {
   "cell_type": "markdown",
   "id": "90265638",
   "metadata": {},
   "source": [
    "<h3>Chapter 3: Modelling</h3>\n",
    "<p>This chapter define and compile the model, incuding choosing the best hyperparameters for the model. This chapter will test several model available on scikit then determine the best models based on analysis.\n",
    "</p>"
   ]
  },
  {
   "cell_type": "code",
   "execution_count": 10,
   "id": "9092e0fb",
   "metadata": {},
   "outputs": [],
   "source": [
    "# Assign train and test data\n",
    "\n",
    "col_features = ['en_location', 'en_department', 'en_salary_range', 'wc_company_profile', 'wc_description','wc_requirements','wc_benefits', 'en_employment_type', 'en_required_experience', 'en_required_education', 'en_industry', 'en_function']\n",
    "col_target = ['fraudulent']\n",
    "\n",
    "x = df_jobposts_clean[col_features].to_numpy()\n",
    "y = df_jobposts_clean[col_target].to_numpy()\n",
    "\n",
    "x_train, x_test, y_train, y_test = train_test_split(x, y, test_size=0.2)"
   ]
  },
  {
   "cell_type": "markdown",
   "id": "87682c18",
   "metadata": {},
   "source": [
    "<b><i>Model 1 - Regression Model</i></b>"
   ]
  },
  {
   "cell_type": "code",
   "execution_count": 11,
   "id": "ca818200",
   "metadata": {},
   "outputs": [
    {
     "name": "stderr",
     "output_type": "stream",
     "text": [
      "/Users/admin/opt/anaconda3/lib/python3.8/site-packages/sklearn/utils/validation.py:985: DataConversionWarning: A column-vector y was passed when a 1d array was expected. Please change the shape of y to (n_samples, ), for example using ravel().\n",
      "  y = column_or_1d(y, warn=True)\n",
      "/Users/admin/opt/anaconda3/lib/python3.8/site-packages/sklearn/linear_model/_logistic.py:814: ConvergenceWarning: lbfgs failed to converge (status=1):\n",
      "STOP: TOTAL NO. of ITERATIONS REACHED LIMIT.\n",
      "\n",
      "Increase the number of iterations (max_iter) or scale the data as shown in:\n",
      "    https://scikit-learn.org/stable/modules/preprocessing.html\n",
      "Please also refer to the documentation for alternative solver options:\n",
      "    https://scikit-learn.org/stable/modules/linear_model.html#logistic-regression\n",
      "  n_iter_i = _check_optimize_result(\n"
     ]
    }
   ],
   "source": [
    "model_regression = linear_model.LogisticRegression()\n",
    "model_regression.fit(x_train,y_train)\n",
    "y_predict = model_regression.predict(x_test)"
   ]
  },
  {
   "cell_type": "code",
   "execution_count": 12,
   "id": "c633d756",
   "metadata": {},
   "outputs": [
    {
     "name": "stderr",
     "output_type": "stream",
     "text": [
      "/Users/admin/opt/anaconda3/lib/python3.8/site-packages/sklearn/utils/deprecation.py:87: FutureWarning: Function plot_confusion_matrix is deprecated; Function `plot_confusion_matrix` is deprecated in 1.0 and will be removed in 1.2. Use one of the class methods: ConfusionMatrixDisplay.from_predictions or ConfusionMatrixDisplay.from_estimator.\n",
      "  warnings.warn(msg, category=FutureWarning)\n"
     ]
    },
    {
     "data": {
      "text/plain": [
       "<sklearn.metrics._plot.confusion_matrix.ConfusionMatrixDisplay at 0x7fdf64ecad30>"
      ]
     },
     "execution_count": 12,
     "metadata": {},
     "output_type": "execute_result"
    },
    {
     "data": {
      "image/png": "[encoded data removed]",
      "text/plain": [
       "<Figure size 432x288 with 2 Axes>"
      ]
     },
     "metadata": {
      "needs_background": "light"
     },
     "output_type": "display_data"
    }
   ],
   "source": [
    "plot_confusion_matrix(model_regression, x_train, y_train)"
   ]
  },
  {
   "cell_type": "markdown",
   "id": "473147eb",
   "metadata": {},
   "source": [
    "<b><i>Model 2 - K-Nearest Neighbour</i></b>"
   ]
  },
  {
   "cell_type": "code",
   "execution_count": 13,
   "id": "7703da5a",
   "metadata": {},
   "outputs": [
    {
     "name": "stderr",
     "output_type": "stream",
     "text": [
      "/Users/admin/opt/anaconda3/lib/python3.8/site-packages/sklearn/neighbors/_classification.py:198: DataConversionWarning: A column-vector y was passed when a 1d array was expected. Please change the shape of y to (n_samples,), for example using ravel().\n",
      "  return self._fit(X, y)\n",
      "/Users/admin/opt/anaconda3/lib/python3.8/site-packages/sklearn/neighbors/_classification.py:198: DataConversionWarning: A column-vector y was passed when a 1d array was expected. Please change the shape of y to (n_samples,), for example using ravel().\n",
      "  return self._fit(X, y)\n",
      "/Users/admin/opt/anaconda3/lib/python3.8/site-packages/sklearn/neighbors/_classification.py:198: DataConversionWarning: A column-vector y was passed when a 1d array was expected. Please change the shape of y to (n_samples,), for example using ravel().\n",
      "  return self._fit(X, y)\n",
      "/Users/admin/opt/anaconda3/lib/python3.8/site-packages/sklearn/neighbors/_classification.py:198: DataConversionWarning: A column-vector y was passed when a 1d array was expected. Please change the shape of y to (n_samples,), for example using ravel().\n",
      "  return self._fit(X, y)\n",
      "/Users/admin/opt/anaconda3/lib/python3.8/site-packages/sklearn/neighbors/_classification.py:198: DataConversionWarning: A column-vector y was passed when a 1d array was expected. Please change the shape of y to (n_samples,), for example using ravel().\n",
      "  return self._fit(X, y)\n",
      "/Users/admin/opt/anaconda3/lib/python3.8/site-packages/sklearn/neighbors/_classification.py:198: DataConversionWarning: A column-vector y was passed when a 1d array was expected. Please change the shape of y to (n_samples,), for example using ravel().\n",
      "  return self._fit(X, y)\n",
      "/Users/admin/opt/anaconda3/lib/python3.8/site-packages/sklearn/neighbors/_classification.py:198: DataConversionWarning: A column-vector y was passed when a 1d array was expected. Please change the shape of y to (n_samples,), for example using ravel().\n",
      "  return self._fit(X, y)\n",
      "/Users/admin/opt/anaconda3/lib/python3.8/site-packages/sklearn/neighbors/_classification.py:198: DataConversionWarning: A column-vector y was passed when a 1d array was expected. Please change the shape of y to (n_samples,), for example using ravel().\n",
      "  return self._fit(X, y)\n",
      "/Users/admin/opt/anaconda3/lib/python3.8/site-packages/sklearn/neighbors/_classification.py:198: DataConversionWarning: A column-vector y was passed when a 1d array was expected. Please change the shape of y to (n_samples,), for example using ravel().\n",
      "  return self._fit(X, y)\n",
      "/Users/admin/opt/anaconda3/lib/python3.8/site-packages/sklearn/neighbors/_classification.py:198: DataConversionWarning: A column-vector y was passed when a 1d array was expected. Please change the shape of y to (n_samples,), for example using ravel().\n",
      "  return self._fit(X, y)\n",
      "/Users/admin/opt/anaconda3/lib/python3.8/site-packages/sklearn/neighbors/_classification.py:198: DataConversionWarning: A column-vector y was passed when a 1d array was expected. Please change the shape of y to (n_samples,), for example using ravel().\n",
      "  return self._fit(X, y)\n",
      "/Users/admin/opt/anaconda3/lib/python3.8/site-packages/sklearn/neighbors/_classification.py:198: DataConversionWarning: A column-vector y was passed when a 1d array was expected. Please change the shape of y to (n_samples,), for example using ravel().\n",
      "  return self._fit(X, y)\n",
      "/Users/admin/opt/anaconda3/lib/python3.8/site-packages/sklearn/neighbors/_classification.py:198: DataConversionWarning: A column-vector y was passed when a 1d array was expected. Please change the shape of y to (n_samples,), for example using ravel().\n",
      "  return self._fit(X, y)\n",
      "/Users/admin/opt/anaconda3/lib/python3.8/site-packages/sklearn/neighbors/_classification.py:198: DataConversionWarning: A column-vector y was passed when a 1d array was expected. Please change the shape of y to (n_samples,), for example using ravel().\n",
      "  return self._fit(X, y)\n"
     ]
    },
    {
     "data": {
      "text/plain": [
       "Text(0, 0.5, 'Error mean')"
      ]
     },
     "execution_count": 13,
     "metadata": {},
     "output_type": "execute_result"
    },
    {
     "data": {
      "image/png": "[encoded data removed]",
      "text/plain": [
       "<Figure size 864x432 with 1 Axes>"
      ]
     },
     "metadata": {
      "needs_background": "light"
     },
     "output_type": "display_data"
    }
   ],
   "source": [
    "# Find best n_neighbors value\n",
    "\n",
    "error = []\n",
    "\n",
    "for i in range(1,15):\n",
    "    knn = KNeighborsClassifier(n_neighbors=i)\n",
    "    knn.fit(x_train, y_train)\n",
    "    pred_i = knn.predict(x_test)\n",
    "    error.append(np.mean(pred_i != y_test))\n",
    "    \n",
    "plt.figure(figsize=(12,6))\n",
    "plt.plot(range(1,15), error, color='red', linestyle='dashed', marker='o', markerfacecolor='blue', markersize=10)\n",
    "plt.title('Error Rate K')\n",
    "plt.xlabel('K')\n",
    "plt.ylabel('Error mean')"
   ]
  },
  {
   "cell_type": "code",
   "execution_count": 14,
   "id": "3a8f19de",
   "metadata": {},
   "outputs": [
    {
     "name": "stderr",
     "output_type": "stream",
     "text": [
      "/Users/admin/opt/anaconda3/lib/python3.8/site-packages/sklearn/neighbors/_classification.py:198: DataConversionWarning: A column-vector y was passed when a 1d array was expected. Please change the shape of y to (n_samples,), for example using ravel().\n",
      "  return self._fit(X, y)\n"
     ]
    }
   ],
   "source": [
    "model_knn = KNeighborsClassifier(n_neighbors=12)\n",
    "model_knn.fit(x_train, y_train)\n",
    "y_predict = model_knn.predict(x_test)"
   ]
  },
  {
   "cell_type": "code",
   "execution_count": 15,
   "id": "077f2a78",
   "metadata": {
    "scrolled": true
   },
   "outputs": [
    {
     "name": "stderr",
     "output_type": "stream",
     "text": [
      "/Users/admin/opt/anaconda3/lib/python3.8/site-packages/sklearn/utils/deprecation.py:87: FutureWarning: Function plot_confusion_matrix is deprecated; Function `plot_confusion_matrix` is deprecated in 1.0 and will be removed in 1.2. Use one of the class methods: ConfusionMatrixDisplay.from_predictions or ConfusionMatrixDisplay.from_estimator.\n",
      "  warnings.warn(msg, category=FutureWarning)\n"
     ]
    },
    {
     "data": {
      "text/plain": [
       "<sklearn.metrics._plot.confusion_matrix.ConfusionMatrixDisplay at 0x7fdf64e51ca0>"
      ]
     },
     "execution_count": 15,
     "metadata": {},
     "output_type": "execute_result"
    },
    {
     "data": {
      "image/png": "[encoded data removed]",
      "text/plain": [
       "<Figure size 432x288 with 2 Axes>"
      ]
     },
     "metadata": {
      "needs_background": "light"
     },
     "output_type": "display_data"
    }
   ],
   "source": [
    "plot_confusion_matrix(model_knn, x_train, y_train)"
   ]
  },
  {
   "cell_type": "markdown",
   "id": "0ed4cd27",
   "metadata": {},
   "source": [
    "<b><i>Model 3 - Decision Tree</i></b>"
   ]
  },
  {
   "cell_type": "code",
   "execution_count": 16,
   "id": "145762bc",
   "metadata": {},
   "outputs": [
    {
     "data": {
      "text/plain": [
       "{'criterion': 'entropy', 'max_depth': 18}"
      ]
     },
     "execution_count": 16,
     "metadata": {},
     "output_type": "execute_result"
    }
   ],
   "source": [
    "# Best hyperparameter search\n",
    "max_depths = list(range(1,20))\n",
    "criterion = ['gini', 'entropy']\n",
    "\n",
    "param_grid = {'criterion': criterion,\n",
    "              'max_depth': max_depths}\n",
    "\n",
    "grid_search = GridSearchCV(DecisionTreeClassifier(),param_grid,scoring='accuracy')\n",
    "grid_search.fit(x_train, y_train)\n",
    "grid_search.best_params_"
   ]
  },
  {
   "cell_type": "code",
   "execution_count": 17,
   "id": "81de62a8",
   "metadata": {},
   "outputs": [],
   "source": [
    "model_dct = DecisionTreeClassifier(max_depth=18, criterion='entropy')\n",
    "model_dct.fit(x_train, y_train)\n",
    "y_predict = model_dct.predict(x_test)"
   ]
  },
  {
   "cell_type": "code",
   "execution_count": 18,
   "id": "99b938be",
   "metadata": {},
   "outputs": [
    {
     "name": "stderr",
     "output_type": "stream",
     "text": [
      "/Users/admin/opt/anaconda3/lib/python3.8/site-packages/sklearn/utils/deprecation.py:87: FutureWarning: Function plot_confusion_matrix is deprecated; Function `plot_confusion_matrix` is deprecated in 1.0 and will be removed in 1.2. Use one of the class methods: ConfusionMatrixDisplay.from_predictions or ConfusionMatrixDisplay.from_estimator.\n",
      "  warnings.warn(msg, category=FutureWarning)\n"
     ]
    },
    {
     "data": {
      "text/plain": [
       "<sklearn.metrics._plot.confusion_matrix.ConfusionMatrixDisplay at 0x7fdf58eb8970>"
      ]
     },
     "execution_count": 18,
     "metadata": {},
     "output_type": "execute_result"
    },
    {
     "data": {
      "image/png": "[encoded data removed]",
      "text/plain": [
       "<Figure size 432x288 with 2 Axes>"
      ]
     },
     "metadata": {
      "needs_background": "light"
     },
     "output_type": "display_data"
    }
   ],
   "source": [
    "plot_confusion_matrix(model_dct, x_train, y_train)"
   ]
  },
  {
   "cell_type": "markdown",
   "id": "4344768d",
   "metadata": {},
   "source": [
    "<h5>Model 4 - Random Forest</h5>"
   ]
  },
  {
   "cell_type": "code",
   "execution_count": 19,
   "id": "9c278b06",
   "metadata": {},
   "outputs": [
    {
     "name": "stderr",
     "output_type": "stream",
     "text": [
      "/var/folders/h0/vgjkl_895611pw1tzh74wq280000gn/T/ipykernel_1457/930748560.py:3: DataConversionWarning: A column-vector y was passed when a 1d array was expected. Please change the shape of y to (n_samples,), for example using ravel().\n",
      "  model_rdf.fit(x_train, y_train)\n"
     ]
    }
   ],
   "source": [
    "# Assume best hyperparameter is similar to Decision Tree\n",
    "model_rdf = RandomForestClassifier(max_depth=18, criterion='entropy')\n",
    "model_rdf.fit(x_train, y_train)\n",
    "y_predict = model_rdf.predict(x_test)"
   ]
  },
  {
   "cell_type": "code",
   "execution_count": 20,
   "id": "b53b3ab4",
   "metadata": {},
   "outputs": [
    {
     "name": "stderr",
     "output_type": "stream",
     "text": [
      "/Users/admin/opt/anaconda3/lib/python3.8/site-packages/sklearn/utils/deprecation.py:87: FutureWarning: Function plot_confusion_matrix is deprecated; Function `plot_confusion_matrix` is deprecated in 1.0 and will be removed in 1.2. Use one of the class methods: ConfusionMatrixDisplay.from_predictions or ConfusionMatrixDisplay.from_estimator.\n",
      "  warnings.warn(msg, category=FutureWarning)\n"
     ]
    },
    {
     "data": {
      "text/plain": [
       "<sklearn.metrics._plot.confusion_matrix.ConfusionMatrixDisplay at 0x7fdf69b9a790>"
      ]
     },
     "execution_count": 20,
     "metadata": {},
     "output_type": "execute_result"
    },
    {
     "data": {
      "image/png": "[encoded data removed]",
      "text/plain": [
       "<Figure size 432x288 with 2 Axes>"
      ]
     },
     "metadata": {
      "needs_background": "light"
     },
     "output_type": "display_data"
    }
   ],
   "source": [
    "plot_confusion_matrix(model_rdf, x_train, y_train)"
   ]
  },
  {
   "cell_type": "markdown",
   "id": "9fda19a0",
   "metadata": {},
   "source": [
    "<h5>Model 5 - Naive Bayes</h5>"
   ]
  },
  {
   "cell_type": "code",
   "execution_count": 21,
   "id": "1bd73100",
   "metadata": {},
   "outputs": [
    {
     "name": "stderr",
     "output_type": "stream",
     "text": [
      "/Users/admin/opt/anaconda3/lib/python3.8/site-packages/sklearn/utils/validation.py:985: DataConversionWarning: A column-vector y was passed when a 1d array was expected. Please change the shape of y to (n_samples, ), for example using ravel().\n",
      "  y = column_or_1d(y, warn=True)\n"
     ]
    }
   ],
   "source": [
    "model_nbg = GaussianNB()\n",
    "model_nbg.fit(x_train, y_train)\n",
    "y_predict = model_nbg.predict(x_test)"
   ]
  },
  {
   "cell_type": "code",
   "execution_count": 22,
   "id": "15491c58",
   "metadata": {},
   "outputs": [
    {
     "name": "stderr",
     "output_type": "stream",
     "text": [
      "/Users/admin/opt/anaconda3/lib/python3.8/site-packages/sklearn/utils/deprecation.py:87: FutureWarning: Function plot_confusion_matrix is deprecated; Function `plot_confusion_matrix` is deprecated in 1.0 and will be removed in 1.2. Use one of the class methods: ConfusionMatrixDisplay.from_predictions or ConfusionMatrixDisplay.from_estimator.\n",
      "  warnings.warn(msg, category=FutureWarning)\n"
     ]
    },
    {
     "data": {
      "text/plain": [
       "<sklearn.metrics._plot.confusion_matrix.ConfusionMatrixDisplay at 0x7fdf5758fa00>"
      ]
     },
     "execution_count": 22,
     "metadata": {},
     "output_type": "execute_result"
    },
    {
     "data": {
      "image/png": "[encoded data removed]",
      "text/plain": [
       "<Figure size 432x288 with 2 Axes>"
      ]
     },
     "metadata": {
      "needs_background": "light"
     },
     "output_type": "display_data"
    }
   ],
   "source": [
    "plot_confusion_matrix(model_nbg, x_train, y_train)"
   ]
  },
  {
   "cell_type": "markdown",
   "id": "93a3e36f",
   "metadata": {},
   "source": [
    "<b><i>Model 6 - Support Vector Machine Linear</i></b>"
   ]
  },
  {
   "cell_type": "code",
   "execution_count": null,
   "id": "03e48a87",
   "metadata": {},
   "outputs": [],
   "source": [
    "# model_svm_lin = svm.SVC(kernel='linear')\n",
    "# model_svm_lin.fit(x_train, y_train)\n",
    "# y_predict = model_svm_lin.predict(x_test)"
   ]
  },
  {
   "cell_type": "code",
   "execution_count": null,
   "id": "febe2e74",
   "metadata": {},
   "outputs": [],
   "source": [
    "# plot_confusion_matrix(model_svm_lin, x_train, y_train)"
   ]
  },
  {
   "cell_type": "markdown",
   "id": "2b8982d6",
   "metadata": {},
   "source": [
    "<h5>Model 7 - Support Vector Machine RBF</h5>"
   ]
  },
  {
   "cell_type": "code",
   "execution_count": null,
   "id": "2296e2fc",
   "metadata": {},
   "outputs": [],
   "source": [
    "# model_svm_rbf = svm.SVC(kernel='rbf')\n",
    "# model_svm_rbf.fit(x_train, y_train)\n",
    "# y_predict = model_svm_rbf.predict(x_test)"
   ]
  },
  {
   "cell_type": "code",
   "execution_count": null,
   "id": "40ed0359",
   "metadata": {},
   "outputs": [],
   "source": [
    "# plot_confusion_matrix(model_svm_rbf, x_train, y_train)"
   ]
  },
  {
   "cell_type": "markdown",
   "id": "7bea0ed8",
   "metadata": {},
   "source": [
    "<h5>Best Model Decision</h5>\n",
    "<p>The analysis of choosing the best model for the dataset</p>"
   ]
  },
  {
   "cell_type": "code",
   "execution_count": 23,
   "id": "d189c640",
   "metadata": {},
   "outputs": [
    {
     "data": {
      "text/plain": [
       "[{LogisticRegression(): {'score_train': 0.950503355704698,\n",
       "   'score_test': 0.9552572706935123}},\n",
       " {KNeighborsClassifier(n_neighbors=12): {'score_train': 0.9602209172259508,\n",
       "   'score_test': 0.9600111856823266}},\n",
       " {DecisionTreeClassifier(criterion='entropy', max_depth=18): {'score_train': 0.9995106263982103,\n",
       "   'score_test': 0.9650447427293065}},\n",
       " {RandomForestClassifier(criterion='entropy', max_depth=18): {'score_train': 0.9990212527964206,\n",
       "   'score_test': 0.9807046979865772}},\n",
       " {GaussianNB(): {'score_train': 0.9388982102908278,\n",
       "   'score_test': 0.9432326621923938}}]"
      ]
     },
     "execution_count": 23,
     "metadata": {},
     "output_type": "execute_result"
    }
   ],
   "source": [
    "# Score calculation\n",
    "list_model = [\n",
    "    model_regression,\n",
    "    model_knn,\n",
    "    model_dct,\n",
    "    model_rdf,\n",
    "    model_nbg,\n",
    "#     model_svm_lin,\n",
    "#     model_svm_rbf\n",
    "]\n",
    "\n",
    "result = []\n",
    "\n",
    "for mod in list_model:\n",
    "    a = mod.score(x_train, y_train)\n",
    "    b = mod.score(x_test, y_test)\n",
    "    \n",
    "    result.append(\n",
    "        {\n",
    "            mod: {\n",
    "                'score_train': a,\n",
    "                'score_test': b\n",
    "            }\n",
    "        })\n",
    "    \n",
    "result"
   ]
  }
 ],
 "metadata": {
  "kernelspec": {
   "display_name": "Python 3 (ipykernel)",
   "language": "python",
   "name": "python3"
  },
  "language_info": {
   "codemirror_mode": {
    "name": "ipython",
    "version": 3
   },
   "file_extension": ".py",
   "mimetype": "text/x-python",
   "name": "python",
   "nbconvert_exporter": "python",
   "pygments_lexer": "ipython3",
   "version": "3.8.8"
  }
 },
 "nbformat": 4,
 "nbformat_minor": 5
}
